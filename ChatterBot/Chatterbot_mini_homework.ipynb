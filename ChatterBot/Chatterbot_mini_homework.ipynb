{
 "cells": [
  {
   "cell_type": "markdown",
   "metadata": {},
   "source": [
    "# ChatterBot mini-homework\n",
    "\n",
    "**TENET.txt** 是電影《天能》的繁體中文字幕文字檔，請使用這份資料訓練一個繁體中文的 ChatterBot(雖然它只會講很瞎的電影台詞)。\n",
    "1. 請設定使它在回應的信心不超過0.5時，一律回答「抱歉，我不太懂。」\n",
    "2. 請和它對話以確認是否有正確訓練"
   ]
  },
  {
   "cell_type": "markdown",
   "metadata": {},
   "source": [
    "### Hint 1 : 創造並訓練 ChatBot，若它的信心不超過 0.5，須回答「抱歉，我不知道」\n",
    "<blockquote>\n",
    "    <p><font color=\"green\"><b>from</b></font> chatterbot <font color=\"green\"><b>import</b></font></p>\n",
    "    <p><font color=\"green\"><b>from</b></font> chatterbot.trainers <font color=\"green\"><b>import</b></font></p>\n",
    "    <p>data <font color=\"purple\"><b>=</b></font></p>\n",
    "    <p>chatbot <font color=\"purple\"><b>=</b></font></p>\n",
    "    <p>trainer <font color=\"purple\"><b>=</b></font></p>\n",
    "    <p>trainer.train(data)</p>\n",
    "    <p>List Trainer: [####################] 100%</p>\n",
    "</blockquote>"
   ]
  },
  {
   "cell_type": "markdown",
   "metadata": {},
   "source": [
    "### Hint 1 : 和它隨便對話\n",
    "<blockquote>\n",
    "    <pre>\n",
    "<font color=\"green\"><b>while 1</b></font>:\n",
    "    <font color=\"green\"><b>try</b></font>:\n",
    "        <font color=\"green\"><b>print</b></font>()\n",
    "        q <font color=\"purple\"><b>=</b></font> <font color=\"green\"><b>input</b></font>(<font color=\"darkred\"><b>'User: '</b></font>)\n",
    "        <font color=\"green\"><b>print</b></font>(<font color=\"darkred\"><b>'Bot:'</b></font>,chatbot.get_response(q))\n",
    "    <font color=\"green\"><b>except </b></font>(KeyboardInterrupt, EOFError, SystemExit):\n",
    "        <font color=\"green\"><b>break</b></font>\n",
    "    </pre>\n",
    "</blockquote>"
   ]
  },
  {
   "cell_type": "markdown",
   "metadata": {},
   "source": [
    "<pre>\n",
    "範例對話：\n",
    "\n",
    "User: 完成!\n",
    "Bot: 那是一枚沒有引爆的炸彈\n",
    "\n",
    "User: 在哪?\n",
    "Bot: 史托斯克12市\n",
    "\n",
    "User: 發生什麼事了\n",
    "Bot: 抱歉，我不知道。\n",
    "\n",
    "User: 好吧\n",
    "Bot: 你說10秒，對吧\n",
    "\n",
    "User: 有嗎?\n",
    "Bot: 沒有\n",
    "\n",
    "User: 調皮\n",
    "Bot: 抱歉，我不知道。\n",
    "</pre>"
   ]
  }
 ],
 "metadata": {
  "kernelspec": {
   "display_name": "Python 3",
   "language": "python",
   "name": "python3"
  },
  "language_info": {
   "codemirror_mode": {
    "name": "ipython",
    "version": 3
   },
   "file_extension": ".py",
   "mimetype": "text/x-python",
   "name": "python",
   "nbconvert_exporter": "python",
   "pygments_lexer": "ipython3",
   "version": "3.7.1"
  }
 },
 "nbformat": 4,
 "nbformat_minor": 4
}
