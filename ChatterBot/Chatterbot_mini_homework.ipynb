{
 "cells": [
  {
   "cell_type": "markdown",
   "metadata": {},
   "source": [
    "# mini-Homework\n",
    "<pre>\n",
    "訓練一個中文的閒聊ChatBot，和它進行至少三次對話\n",
    "\n",
    "Your output will look like :\n",
    "\n",
    "List Trainer: [####################] 100%\n",
    "\n",
    "User: 嗨\n",
    "Bot: 我要怎麼接近薩托？\n",
    "\n",
    "User: 我就是薩托\n",
    "Bot: 我要負責查出來？\n",
    "\n",
    "User: 當然\n",
    "Bot: 試著睡覺吧\n",
    "\n",
    "User: 這樣太危險\n",
    "Bot: 我知道你會有辦法\n",
    "\n",
    "User: 不愧是我\n",
    "Bot: 他們會很安全\n",
    "\n",
    "User: 誰\n",
    "Bot: 黃昏時沒有朋友？\n",
    "\n",
    "User: 你才沒朋友ˋˊ\n",
    "Bot: 但具有蹦極跳性\n",
    "\n",
    "User: 什麼意思\n",
    "Bot: 她快死了\n",
    "\n",
    "User: 哦天啊\n",
    "Bot: 你沒給他，你騙他東西在哪裡，等等\n",
    "</pre>"
   ]
  }
 ],
 "metadata": {
  "kernelspec": {
   "display_name": "Python 3",
   "language": "python",
   "name": "python3"
  },
  "language_info": {
   "codemirror_mode": {
    "name": "ipython",
    "version": 3
   },
   "file_extension": ".py",
   "mimetype": "text/x-python",
   "name": "python",
   "nbconvert_exporter": "python",
   "pygments_lexer": "ipython3",
   "version": "3.7.1"
  }
 },
 "nbformat": 4,
 "nbformat_minor": 4
}
