{
 "cells": [
  {
   "cell_type": "markdown",
   "metadata": {},
   "source": [
    "# ChatterBot 範例程式碼\n",
    "\n",
    "## 載入套件\n",
    "若希望能看到 ChatBot 的決策過程，可以把最後兩行取消註解"
   ]
  },
  {
   "cell_type": "code",
   "execution_count": 1,
   "metadata": {},
   "outputs": [],
   "source": [
    "from chatterbot import ChatBot\n",
    "from chatterbot.trainers import ChatterBotCorpusTrainer\n",
    "\n",
    "# Uncomment the following line to enable verbose logging\n",
    "# import logging\n",
    "# logging.basicConfig(level=logging.INFO)"
   ]
  },
  {
   "cell_type": "markdown",
   "metadata": {},
   "source": [
    "## 基本用法\n",
    "\n",
    "ChatterBot 最重要的部分有二：\n",
    "- ChatBot\n",
    "- Trainer\n",
    "\n",
    "先創造出 ChatBot 並為其命名，再根據訓練資料型態指定 trainer ，即可進行訓練。訓練完成後使用指令`.get_response()`可以和 ChatBot 對話，而對話的同時也是在訓練 ChatBot，擴增它的資料庫。"
   ]
  },
  {
   "cell_type": "code",
   "execution_count": 2,
   "metadata": {
    "slideshow": {
     "slide_type": "subslide"
    }
   },
   "outputs": [
    {
     "name": "stdout",
     "output_type": "stream",
     "text": [
      "Training ai.yml: [##                  ] 8%"
     ]
    },
    {
     "name": "stderr",
     "output_type": "stream",
     "text": [
      "C:\\Users\\user\\Anaconda3\\lib\\site-packages\\chatterbot\\corpus.py:59: YAMLLoadWarning: calling yaml.load() without Loader=... is deprecated, as the default Loader is unsafe. Please read https://msg.pyyaml.org/load for full details.\n",
      "  return yaml.load(data_file)\n"
     ]
    },
    {
     "name": "stdout",
     "output_type": "stream",
     "text": [
      "Training ai.yml: [####################] 100%\n",
      "Training botprofile.yml: [####################] 100%\n",
      "Training computers.yml: [####################] 100%\n",
      "Training conversations.yml: [####################] 100%\n",
      "Training emotion.yml: [####################] 100%\n",
      "Training food.yml: [####################] 100%\n",
      "Training gossip.yml: [####################] 100%\n",
      "Training greetings.yml: [####################] 100%\n",
      "Training health.yml: [####################] 100%\n",
      "Training history.yml: [####################] 100%\n",
      "Training humor.yml: [####################] 100%\n",
      "Training literature.yml: [####################] 100%\n",
      "Training money.yml: [####################] 100%\n",
      "Training movies.yml: [####################] 100%\n",
      "Training politics.yml: [####################] 100%\n",
      "Training psychology.yml: [####################] 100%\n",
      "Training science.yml: [####################] 100%\n",
      "Training sports.yml: [####################] 100%\n",
      "Training trivia.yml: [####################] 100%\n"
     ]
    },
    {
     "data": {
      "text/plain": [
       "<Statement text:I am doing well, how about you?>"
      ]
     },
     "execution_count": 2,
     "metadata": {},
     "output_type": "execute_result"
    }
   ],
   "source": [
    "chatbot = ChatBot('YOUR CHATBOT NAME')\n",
    "\n",
    "# Create a new trainer for the chatbot\n",
    "trainer = ChatterBotCorpusTrainer(chatbot)\n",
    "\n",
    "# Train the chatbot based on the english corpus\n",
    "trainer.train(\"chatterbot.corpus.english\")\n",
    "\n",
    "# Get a response to an input statement\n",
    "chatbot.get_response(\"Good morning! How are you doing?\")"
   ]
  },
  {
   "cell_type": "markdown",
   "metadata": {},
   "source": [
    "## 使用list格式的資料訓練chatbot\n",
    "若使用的語料不是以 chatterbot-corpus 那樣的格式儲存，也可以將資料整理成 list，使用`ListTrainer`來訓練。"
   ]
  },
  {
   "cell_type": "code",
   "execution_count": 3,
   "metadata": {
    "slideshow": {
     "slide_type": "subslide"
    }
   },
   "outputs": [
    {
     "name": "stdout",
     "output_type": "stream",
     "text": [
      "List Trainer: [####################] 100%\n",
      "List Trainer: [####################] 100%\n",
      "I am doing well.\n"
     ]
    }
   ],
   "source": [
    "from chatterbot.trainers import ListTrainer\n",
    "\n",
    "chatbot = ChatBot('Example Bot')\n",
    "\n",
    "# Start by training our bot with the ChatterBot corpus data\n",
    "trainer = ListTrainer(chatbot)\n",
    "\n",
    "trainer.train([\n",
    "    'Hello, how are you?',\n",
    "    'I am doing well.',\n",
    "    'That is good to hear.',\n",
    "    'Thank you'\n",
    "])\n",
    "\n",
    "# You can train with a second list of data to add response variations\n",
    "\n",
    "trainer.train([\n",
    "    'Hello, how are you?',\n",
    "    'I am great.',\n",
    "    'That is awesome.',\n",
    "    'Thanks'\n",
    "])\n",
    "\n",
    "# Now let's get a response to a greeting\n",
    "response = chatbot.get_response('Hello, how are you?')\n",
    "print(response)"
   ]
  },
  {
   "cell_type": "markdown",
   "metadata": {},
   "source": [
    "# 邏輯適配器\n",
    "在 ChatterBot 中，你可以選擇 ChatBot 在尋找適當回應的邏輯。`logic_adapter`的預設值為 ['chatterbot.logic.BestMatch']，即找出資料庫中與輸入相近的句子，再取出這些句子的回應句，根據使用者說出這些回應句的頻率，來決定要以哪個句子作為最終回應。　　　　\n",
    "\n",
    "除了BestMatch之外，套件中也有其他現成的邏輯適配器可以使用。若同時使用了多個邏輯適配器，則根據每個適配器給出的信心水準，採用信心水準最高的適配器生成的回應。\n",
    "\n",
    "## 單位換算邏輯適配器\n",
    "UnitConversion 可以回答關於單位換算的問題，例如一公里等於多少公尺等問題。"
   ]
  },
  {
   "cell_type": "code",
   "execution_count": 4,
   "metadata": {},
   "outputs": [
    {
     "name": "stdout",
     "output_type": "stream",
     "text": [
      "How many meters are in a kilometer? -  Response: 1000.0\n",
      "How many meters are in one inch? -  Response: 0.0254\n",
      "0 celsius to fahrenheit -  Response: 31.999999999999936\n",
      "one hour is how many minutes ? -  Response: 60.0\n"
     ]
    }
   ],
   "source": [
    "bot = ChatBot('Unit Converter',\n",
    "              logic_adapters=['chatterbot.logic.UnitConversion',]\n",
    "             )\n",
    "\n",
    "questions = [\n",
    "    'How many meters are in a kilometer?',\n",
    "    'How many meters are in one inch?',\n",
    "    '0 celsius to fahrenheit',\n",
    "    'one hour is how many minutes ?'\n",
    "]\n",
    "\n",
    "# Prints the convertion given the specific question\n",
    "for question in questions:\n",
    "    response = bot.get_response(question)\n",
    "    print(question + ' -  Response: ' + response.text)"
   ]
  },
  {
   "cell_type": "markdown",
   "metadata": {},
   "source": [
    "## 最佳匹配邏輯適配器(預設回應)\n",
    "可以為適配器設定預設的回應，當其信心水準低於某一閥值時，令其回傳預設的回應，例如「我不明白」等，可以避免出現不恰當的回應。"
   ]
  },
  {
   "cell_type": "code",
   "execution_count": 5,
   "metadata": {},
   "outputs": [
    {
     "name": "stdout",
     "output_type": "stream",
     "text": [
      "List Trainer: [####################] 100%\n",
      "Sort of.\n"
     ]
    }
   ],
   "source": [
    "# Create a new instance of a ChatBot\n",
    "bot = ChatBot(\n",
    "    'Example Bot',\n",
    "    storage_adapter='chatterbot.storage.SQLStorageAdapter',\n",
    "    logic_adapters=[\n",
    "        {\n",
    "            'import_path': 'chatterbot.logic.BestMatch',\n",
    "            'default_response': 'I am sorry, but I do not understand.',\n",
    "            'maximum_similarity_threshold': 0.90\n",
    "        }\n",
    "    ]\n",
    ")\n",
    "\n",
    "trainer = ListTrainer(bot)\n",
    "\n",
    "# Train the chat bot with a few responses\n",
    "trainer.train([\n",
    "    'How can I help you?',\n",
    "    'I want to create a chat bot',\n",
    "    'Have you read the documentation?',\n",
    "    'No, I have not',\n",
    "    'This should help get you started: http://chatterbot.rtfd.org/en/latest/quickstart.html'\n",
    "])\n",
    "\n",
    "# Get a response for some unexpected input\n",
    "response = bot.get_response('How do I make an omelette?')\n",
    "print(response)"
   ]
  },
  {
   "cell_type": "markdown",
   "metadata": {},
   "source": [
    "## 數學及時間邏輯適配器\n",
    "這兩個適配器分別適用於回應數學問題及時間問題。"
   ]
  },
  {
   "cell_type": "code",
   "execution_count": 6,
   "metadata": {},
   "outputs": [
    {
     "name": "stdout",
     "output_type": "stream",
     "text": [
      "4 + 9 = 13\n",
      "The current time is 07:53 AM\n"
     ]
    }
   ],
   "source": [
    "bot = ChatBot(\n",
    "    'Math & Time Bot',\n",
    "    logic_adapters=[\n",
    "        'chatterbot.logic.MathematicalEvaluation',\n",
    "        'chatterbot.logic.TimeLogicAdapter'\n",
    "    ]\n",
    ")\n",
    "\n",
    "# Print an example of getting one math based response\n",
    "response = bot.get_response('What is 4 + 9?')\n",
    "print(response)\n",
    "\n",
    "# Print an example of getting one time based response\n",
    "response = bot.get_response('What time is it?')\n",
    "print(response)"
   ]
  },
  {
   "cell_type": "markdown",
   "metadata": {},
   "source": [
    "## 特定回答邏輯適配器\n",
    "使用 SpecificResponseAdapter 可以對指定句子產生固定回答。(這裡原始碼有點小bug，如果輸出結果不是 'Ok, here is a link: http://chatterbot.rtfd.org' 也沒關係，可以參考https://github.com/gunthercox/ChatterBot/issues/1677 這個 Issue。"
   ]
  },
  {
   "cell_type": "code",
   "execution_count": 7,
   "metadata": {},
   "outputs": [
    {
     "name": "stdout",
     "output_type": "stream",
     "text": [
      "Right this way.\n"
     ]
    }
   ],
   "source": [
    "# Create a new instance of a ChatBot\n",
    "bot = ChatBot(\n",
    "    'Exact Response Example Bot',\n",
    "    storage_adapter='chatterbot.storage.SQLStorageAdapter',\n",
    "    logic_adapters=[\n",
    "        {\n",
    "            'import_path': 'chatterbot.logic.BestMatch'\n",
    "        },\n",
    "        {\n",
    "            'import_path': 'chatterbot.logic.SpecificResponseAdapter',\n",
    "            'input_text': 'Help me!',\n",
    "            'output_text': 'Ok, here is a link: http://chatterbot.rtfd.org'\n",
    "        }\n",
    "    ]\n",
    ")\n",
    "# Get a response given the specific input\n",
    "response = bot.get_response('Help me!')\n",
    "print(response)"
   ]
  },
  {
   "cell_type": "markdown",
   "metadata": {},
   "source": [
    "# 其他範例\n",
    "## 從回饋學習\n",
    "示範如何讓 ChatBot 根據使用者對於回答所給予的評價學習，避免 ChatBot 不適當的回答又被加入資料庫中。"
   ]
  },
  {
   "cell_type": "code",
   "execution_count": 8,
   "metadata": {
    "scrolled": true
   },
   "outputs": [
    {
     "name": "stdout",
     "output_type": "stream",
     "text": [
      "Type something to begin...\n",
      "A\n"
     ]
    },
    {
     "name": "stderr",
     "output_type": "stream",
     "text": [
      "No value for search_text was available on the provided input\n"
     ]
    },
    {
     "name": "stdout",
     "output_type": "stream",
     "text": [
      "\n",
      " Is \"Artificial Intelligence is the branch of engineering and science devoted to constructing machines that think.\" a coherent response to \"A\"? \n",
      "\n",
      "test\n",
      "Please type either \"Yes\" or \"No\"\n",
      "NO\n",
      "please input the correct one\n",
      "No\n",
      "Responses added to bot!\n"
     ]
    }
   ],
   "source": [
    "from chatterbot.conversation import Statement\n",
    "\n",
    "\"\"\"\n",
    "This example shows how to create a chat bot that\n",
    "will learn responses based on an additional feedback\n",
    "element from the user.\n",
    "\"\"\"\n",
    "\n",
    "# Create a new instance of a ChatBot\n",
    "bot = ChatBot(\n",
    "    'Feedback Learning Bot',\n",
    "    storage_adapter='chatterbot.storage.SQLStorageAdapter'\n",
    ")\n",
    "\n",
    "\n",
    "def get_feedback():\n",
    "\n",
    "    text = input()\n",
    "\n",
    "    if 'yes' in text.lower():\n",
    "        return True\n",
    "    elif 'no' in text.lower():\n",
    "        return False\n",
    "    else:\n",
    "        print('Please type either \"Yes\" or \"No\"')\n",
    "        return get_feedback()\n",
    "\n",
    "\n",
    "print('Type something to begin...')\n",
    "\n",
    "# The following loop will execute each time the user enters input\n",
    "while True:\n",
    "    try:\n",
    "        input_statement = Statement(text=input())\n",
    "        response = bot.generate_response(\n",
    "            input_statement\n",
    "        )\n",
    "\n",
    "        print('\\n Is \"{}\" a coherent response to \"{}\"? \\n'.format(\n",
    "            response.text,\n",
    "            input_statement.text\n",
    "        ))\n",
    "        if get_feedback() is False:\n",
    "            print('please input the correct one')\n",
    "            correct_response = Statement(text=input())\n",
    "            bot.learn_response(correct_response, input_statement)\n",
    "            print('Responses added to bot!')\n",
    "\n",
    "    # Press ctrl-c or ctrl-d on the keyboard to exit\n",
    "    except (KeyboardInterrupt, EOFError, SystemExit):\n",
    "        break"
   ]
  },
  {
   "cell_type": "markdown",
   "metadata": {},
   "source": [
    "## export\n",
    "有時候可能會需要儲存 ChatBot 累積的訓練資料，以便將來訓練新的 ChatBot 使用。指令`.export_for_training()`能夠完成這件事。"
   ]
  },
  {
   "cell_type": "code",
   "execution_count": 9,
   "metadata": {},
   "outputs": [
    {
     "name": "stdout",
     "output_type": "stream",
     "text": [
      "Training ai.yml: [###                 ] 13%"
     ]
    },
    {
     "name": "stderr",
     "output_type": "stream",
     "text": [
      "C:\\Users\\user\\Anaconda3\\lib\\site-packages\\chatterbot\\corpus.py:59: YAMLLoadWarning: calling yaml.load() without Loader=... is deprecated, as the default Loader is unsafe. Please read https://msg.pyyaml.org/load for full details.\n",
      "  return yaml.load(data_file)\n"
     ]
    },
    {
     "name": "stdout",
     "output_type": "stream",
     "text": [
      "Training ai.yml: [####################] 100%\n",
      "Training botprofile.yml: [####################] 100%\n",
      "Training computers.yml: [####################] 100%\n",
      "Training conversations.yml: [####################] 100%\n",
      "Training emotion.yml: [####################] 100%\n",
      "Training food.yml: [####################] 100%\n",
      "Training gossip.yml: [####################] 100%\n",
      "Training greetings.yml: [####################] 100%\n",
      "Training health.yml: [####################] 100%\n",
      "Training history.yml: [####################] 100%\n",
      "Training humor.yml: [####################] 100%\n",
      "Training literature.yml: [####################] 100%\n",
      "Training money.yml: [####################] 100%\n",
      "Training movies.yml: [####################] 100%\n",
      "Training politics.yml: [####################] 100%\n",
      "Training psychology.yml: [####################] 100%\n",
      "Training science.yml: [####################] 100%\n",
      "Training sports.yml: [####################] 100%\n",
      "Training trivia.yml: [####################] 100%\n"
     ]
    }
   ],
   "source": [
    "'''\n",
    "This is an example showing how to create an export file from\n",
    "an existing chat bot that can then be used to train other bots.\n",
    "'''\n",
    "\n",
    "chatbot = ChatBot('Export Example Bot')\n",
    "\n",
    "# First, lets train our bot with some data\n",
    "trainer = ChatterBotCorpusTrainer(chatbot)\n",
    "\n",
    "trainer.train('chatterbot.corpus.english')\n",
    "\n",
    "# Now we can export the data to a file\n",
    "trainer.export_for_training('./my_export.json')"
   ]
  },
  {
   "cell_type": "markdown",
   "metadata": {},
   "source": [
    "### 補充\n",
    "- ChatterBot 會自動儲存上個 ChatBot 接收過的訓練資料，若不希望新的 ChatBot 受到干擾，可以在建立 ChatBot之後加上 `chatbot.storage.drop()`，或手動刪除資料夾中的 db.sqlite3 等檔案。\n",
    "- 個人認為 ChatterBot 並不算是功能很豐富、完整的套件，但是它能接受的客製化程度很高，像是 logic_adapter、trainer、preprocessor 等等，幾乎所有部分都是可以自己依需求寫好再接上去的(不過這樣做也挺麻煩就是了)。"
   ]
  }
 ],
 "metadata": {
  "kernelspec": {
   "display_name": "Python 3",
   "language": "python",
   "name": "python3"
  },
  "language_info": {
   "codemirror_mode": {
    "name": "ipython",
    "version": 3
   },
   "file_extension": ".py",
   "mimetype": "text/x-python",
   "name": "python",
   "nbconvert_exporter": "python",
   "pygments_lexer": "ipython3",
   "version": "3.7.1"
  }
 },
 "nbformat": 4,
 "nbformat_minor": 4
}
