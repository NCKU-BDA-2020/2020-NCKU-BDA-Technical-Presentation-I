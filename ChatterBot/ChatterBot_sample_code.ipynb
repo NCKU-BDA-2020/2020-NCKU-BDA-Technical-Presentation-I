{
 "cells": [
  {
   "cell_type": "markdown",
   "metadata": {},
   "source": [
    "# ChatterBot 範例程式碼\n",
    "\n",
    "## Get Started"
   ]
  },
  {
   "cell_type": "code",
   "execution_count": 2,
   "metadata": {},
   "outputs": [],
   "source": [
    "from chatterbot import ChatBot\n",
    "from chatterbot.trainers import ChatterBotCorpusTrainer"
   ]
  },
  {
   "cell_type": "code",
   "execution_count": 3,
   "metadata": {},
   "outputs": [
    {
     "name": "stdout",
     "output_type": "stream",
     "text": [
      "Training ai.yml: [##                  ] 10%"
     ]
    },
    {
     "name": "stderr",
     "output_type": "stream",
     "text": [
      "C:\\Users\\user\\Anaconda3\\lib\\site-packages\\chatterbot\\corpus.py:59: YAMLLoadWarning: calling yaml.load() without Loader=... is deprecated, as the default Loader is unsafe. Please read https://msg.pyyaml.org/load for full details.\n",
      "  return yaml.load(data_file)\n"
     ]
    },
    {
     "name": "stdout",
     "output_type": "stream",
     "text": [
      "Training ai.yml: [####################] 100%\n",
      "Training botprofile.yml: [####################] 100%\n",
      "Training computers.yml: [####################] 100%\n",
      "Training conversations.yml: [####################] 100%\n",
      "Training emotion.yml: [####################] 100%\n",
      "Training food.yml: [####################] 100%\n",
      "Training gossip.yml: [####################] 100%\n",
      "Training greetings.yml: [####################] 100%\n",
      "Training health.yml: [####################] 100%\n",
      "Training history.yml: [####################] 100%\n",
      "Training humor.yml: [####################] 100%\n",
      "Training literature.yml: [####################] 100%\n",
      "Training money.yml: [####################] 100%\n",
      "Training movies.yml: [####################] 100%\n",
      "Training politics.yml: [####################] 100%\n",
      "Training psychology.yml: [####################] 100%\n",
      "Training science.yml: [####################] 100%\n",
      "Training sports.yml: [####################] 100%\n",
      "Training trivia.yml: [####################] 100%\n"
     ]
    },
    {
     "data": {
      "text/plain": [
       "<Statement text:I am doing well, how about you?>"
      ]
     },
     "execution_count": 3,
     "metadata": {},
     "output_type": "execute_result"
    }
   ],
   "source": [
    "chatbot = ChatBot('YOUR CHATBOT NAME')\n",
    "\n",
    "# Create a new trainer for the chatbot\n",
    "trainer = ChatterBotCorpusTrainer(chatbot)\n",
    "\n",
    "# Train the chatbot based on the english corpus\n",
    "trainer.train(\"chatterbot.corpus.english\")\n",
    "\n",
    "# Get a response to an input statement\n",
    "chatbot.get_response(\"Good morning! How are you doing?\")"
   ]
  },
  {
   "cell_type": "markdown",
   "metadata": {},
   "source": [
    "# EXAMPLES"
   ]
  },
  {
   "cell_type": "markdown",
   "metadata": {},
   "source": [
    "## train on corpus"
   ]
  },
  {
   "cell_type": "code",
   "execution_count": 4,
   "metadata": {},
   "outputs": [
    {
     "name": "stdout",
     "output_type": "stream",
     "text": [
      "Training ai.yml: [####################] 100%\n",
      "Training botprofile.yml: [####################] 100%\n",
      "Training computers.yml: [####################] 100%\n",
      "Training conversations.yml: [####################] 100%\n",
      "Training emotion.yml: [####################] 100%\n",
      "Training food.yml: [####################] 100%\n",
      "Training gossip.yml: [####################] 100%\n",
      "Training greetings.yml: [####################] 100%\n",
      "Training health.yml: [####################] 100%\n",
      "Training history.yml: [####################] 100%\n",
      "Training humor.yml: [####################] 100%\n",
      "Training literature.yml: [####################] 100%\n",
      "Training money.yml: [####################] 100%\n",
      "Training movies.yml: [####################] 100%\n",
      "Training politics.yml: [####################] 100%\n",
      "Training psychology.yml: [####################] 100%\n",
      "Training science.yml: [####################] 100%\n",
      "Training sports.yml: [####################] 100%\n",
      "Training trivia.yml: [####################] 100%\n"
     ]
    },
    {
     "name": "stderr",
     "output_type": "stream",
     "text": [
      "INFO:chatterbot.chatterbot:Beginning search for close text match\n",
      "INFO:chatterbot.chatterbot:Processing search results\n",
      "INFO:chatterbot.chatterbot:Similar text found: Are you sentient? 0.59\n",
      "INFO:chatterbot.chatterbot:Similar text found: Are you sapient? 0.6\n",
      "INFO:chatterbot.chatterbot:Similar text found: Who are you? 0.61\n",
      "INFO:chatterbot.chatterbot:Similar text found: How are you doing? 0.86\n",
      "INFO:chatterbot.chatterbot:Similar text found: How are you doing today? 1.0\n",
      "INFO:chatterbot.chatterbot:Using \"How are you doing today?\" as a close match to \"How are you doing today?\" with a confidence of 1.0\n",
      "INFO:chatterbot.chatterbot:No responses found. Generating alternate response list.\n",
      "INFO:chatterbot.chatterbot:No known response to the input was found. Selecting a random response.\n",
      "INFO:chatterbot.chatterbot:BestMatch selected \"I like to chat with people. I find it stimulating.\" as a response with a confidence of 0\n",
      "INFO:chatterbot.chatterbot:Adding \"How are you doing today?\" as a response to \"Good morning! How are you doing?\"\n"
     ]
    },
    {
     "name": "stdout",
     "output_type": "stream",
     "text": [
      "I like to chat with people. I find it stimulating.\n"
     ]
    }
   ],
   "source": [
    "from chatterbot import ChatBot\n",
    "from chatterbot.trainers import ChatterBotCorpusTrainer\n",
    "import logging\n",
    "\n",
    "\n",
    "'''\n",
    "This is an example showing how to train a chat bot using the\n",
    "ChatterBot Corpus of conversation dialog.\n",
    "'''\n",
    "\n",
    "# Enable info level logging\n",
    "logging.basicConfig(level=logging.INFO)\n",
    "\n",
    "chatbot = ChatBot('Example Bot')\n",
    "\n",
    "# Start by training our bot with the ChatterBot corpus data\n",
    "trainer = ChatterBotCorpusTrainer(chatbot)\n",
    "\n",
    "trainer.train(\n",
    "    'chatterbot.corpus.english'\n",
    ")\n",
    "\n",
    "# Now let's get a response to a greeting\n",
    "response = chatbot.get_response('How are you doing today?')\n",
    "print(response)"
   ]
  },
  {
   "cell_type": "markdown",
   "metadata": {},
   "source": [
    "## train on list data"
   ]
  },
  {
   "cell_type": "code",
   "execution_count": 5,
   "metadata": {},
   "outputs": [
    {
     "name": "stdout",
     "output_type": "stream",
     "text": [
      "List Trainer: [####################] 100%\n",
      "List Trainer: [####################] 100%\n"
     ]
    },
    {
     "name": "stderr",
     "output_type": "stream",
     "text": [
      "INFO:chatterbot.chatterbot:Beginning search for close text match\n",
      "INFO:chatterbot.chatterbot:Processing search results\n",
      "INFO:chatterbot.chatterbot:Similar text found: Are you sentient? 0.59\n",
      "INFO:chatterbot.chatterbot:Similar text found: Are you sapient? 0.6\n",
      "INFO:chatterbot.chatterbot:Similar text found: Who are you? 0.61\n",
      "INFO:chatterbot.chatterbot:Similar text found: How are you doing? 0.86\n",
      "INFO:chatterbot.chatterbot:Similar text found: How are you doing today? 1.0\n",
      "INFO:chatterbot.chatterbot:Using \"How are you doing today?\" as a close match to \"How are you doing today?\" with a confidence of 1.0\n",
      "INFO:chatterbot.chatterbot:No responses found. Generating alternate response list.\n",
      "INFO:chatterbot.chatterbot:No known response to the input was found. Selecting a random response.\n",
      "INFO:chatterbot.chatterbot:BestMatch selected \"i like wine, do you?\" as a response with a confidence of 0\n",
      "INFO:chatterbot.chatterbot:Adding \"How are you doing today?\" as a response to \"How are you doing today?\"\n"
     ]
    },
    {
     "name": "stdout",
     "output_type": "stream",
     "text": [
      "i like wine, do you?\n"
     ]
    }
   ],
   "source": [
    "from chatterbot import ChatBot\n",
    "from chatterbot.trainers import ListTrainer\n",
    "\n",
    "\n",
    "'''\n",
    "This is an example showing how to train a chat bot using the\n",
    "ChatterBot ListTrainer.\n",
    "'''\n",
    "\n",
    "chatbot = ChatBot('Example Bot')\n",
    "\n",
    "# Start by training our bot with the ChatterBot corpus data\n",
    "trainer = ListTrainer(chatbot)\n",
    "\n",
    "trainer.train([\n",
    "    'Hello, how are you?',\n",
    "    'I am doing well.',\n",
    "    'That is good to hear.',\n",
    "    'Thank you'\n",
    "])\n",
    "\n",
    "# You can train with a second list of data to add response variations\n",
    "\n",
    "trainer.train([\n",
    "    'Hello, how are you?',\n",
    "    'I am great.',\n",
    "    'That is awesome.',\n",
    "    'Thanks'\n",
    "])\n",
    "\n",
    "# Now let's get a response to a greeting\n",
    "response = chatbot.get_response('How are you doing today?')\n",
    "print(response)\n"
   ]
  },
  {
   "cell_type": "markdown",
   "metadata": {},
   "source": [
    "## convert units"
   ]
  },
  {
   "cell_type": "code",
   "execution_count": 6,
   "metadata": {},
   "outputs": [
    {
     "name": "stderr",
     "output_type": "stream",
     "text": [
      "INFO:chatterbot.chatterbot:UnitConversion selected \"1000.0\" as a response with a confidence of 1.0\n",
      "INFO:chatterbot.chatterbot:Adding \"How many meters are in a kilometer?\" as a response to \"How are you doing today?\"\n",
      "INFO:chatterbot.chatterbot:UnitConversion selected \"0.0254\" as a response with a confidence of 1.0\n",
      "INFO:chatterbot.chatterbot:Adding \"How many meters are in one inch?\" as a response to \"How many meters are in a kilometer?\"\n"
     ]
    },
    {
     "name": "stdout",
     "output_type": "stream",
     "text": [
      "How many meters are in a kilometer? -  Response: 1000.0\n"
     ]
    },
    {
     "name": "stderr",
     "output_type": "stream",
     "text": [
      "INFO:chatterbot.chatterbot:UnitConversion selected \"31.999999999999936\" as a response with a confidence of 1.0\n",
      "INFO:chatterbot.chatterbot:Adding \"0 celsius to fahrenheit\" as a response to \"How many meters are in one inch?\"\n"
     ]
    },
    {
     "name": "stdout",
     "output_type": "stream",
     "text": [
      "How many meters are in one inch? -  Response: 0.0254\n"
     ]
    },
    {
     "name": "stderr",
     "output_type": "stream",
     "text": [
      "INFO:chatterbot.chatterbot:UnitConversion selected \"60.0\" as a response with a confidence of 1.0\n",
      "INFO:chatterbot.chatterbot:Adding \"one hour is how many minutes ?\" as a response to \"0 celsius to fahrenheit\"\n"
     ]
    },
    {
     "name": "stdout",
     "output_type": "stream",
     "text": [
      "0 celsius to fahrenheit -  Response: 31.999999999999936\n",
      "one hour is how many minutes ? -  Response: 60.0\n"
     ]
    }
   ],
   "source": [
    "from chatterbot import ChatBot\n",
    "\n",
    "\n",
    "bot = ChatBot(\n",
    "    'Unit Converter',\n",
    "    logic_adapters=[\n",
    "        'chatterbot.logic.UnitConversion',\n",
    "    ]\n",
    ")\n",
    "\n",
    "questions = [\n",
    "    'How many meters are in a kilometer?',\n",
    "    'How many meters are in one inch?',\n",
    "    '0 celsius to fahrenheit',\n",
    "    'one hour is how many minutes ?'\n",
    "]\n",
    "\n",
    "# Prints the convertion given the specific question\n",
    "for question in questions:\n",
    "    response = bot.get_response(question)\n",
    "    print(question + ' -  Response: ' + response.text)"
   ]
  },
  {
   "cell_type": "markdown",
   "metadata": {},
   "source": [
    "## default response"
   ]
  },
  {
   "cell_type": "code",
   "execution_count": 7,
   "metadata": {},
   "outputs": [
    {
     "name": "stdout",
     "output_type": "stream",
     "text": [
      "List Trainer: [####################] 100%"
     ]
    },
    {
     "name": "stderr",
     "output_type": "stream",
     "text": [
      "INFO:chatterbot.chatterbot:Beginning search for close text match\n",
      "INFO:chatterbot.chatterbot:Processing search results\n",
      "INFO:chatterbot.chatterbot:Similar text found: Are you sentient? 0.33\n"
     ]
    },
    {
     "name": "stdout",
     "output_type": "stream",
     "text": [
      "\r\n"
     ]
    },
    {
     "name": "stderr",
     "output_type": "stream",
     "text": [
      "INFO:chatterbot.chatterbot:Similar text found: You do not make any sense 0.63\n",
      "INFO:chatterbot.chatterbot:Similar text found: How do I make an omelette? 1.0\n",
      "INFO:chatterbot.chatterbot:Using \"How do I make an omelette?\" as a close match to \"How do I make an omelette?\" with a confidence of 1.0\n",
      "INFO:chatterbot.chatterbot:No responses found. Generating alternate response list.\n",
      "INFO:chatterbot.chatterbot:No known response to the input was found. Selecting a random response.\n",
      "INFO:chatterbot.chatterbot:BestMatch selected \"I am sorry, but I do not understand.\" as a response with a confidence of 0\n",
      "INFO:chatterbot.chatterbot:Adding \"How do I make an omelette?\" as a response to \"one hour is how many minutes ?\"\n"
     ]
    },
    {
     "name": "stdout",
     "output_type": "stream",
     "text": [
      "I am sorry, but I do not understand.\n"
     ]
    }
   ],
   "source": [
    "from chatterbot import ChatBot\n",
    "from chatterbot.trainers import ListTrainer\n",
    "\n",
    "\n",
    "# Create a new instance of a ChatBot\n",
    "bot = ChatBot(\n",
    "    'Example Bot',\n",
    "    storage_adapter='chatterbot.storage.SQLStorageAdapter',\n",
    "    logic_adapters=[\n",
    "        {\n",
    "            'import_path': 'chatterbot.logic.BestMatch',\n",
    "            'default_response': 'I am sorry, but I do not understand.',\n",
    "            'maximum_similarity_threshold': 0.90\n",
    "        }\n",
    "    ]\n",
    ")\n",
    "\n",
    "trainer = ListTrainer(bot)\n",
    "\n",
    "# Train the chat bot with a few responses\n",
    "trainer.train([\n",
    "    'How can I help you?',\n",
    "    'I want to create a chat bot',\n",
    "    'Have you read the documentation?',\n",
    "    'No, I have not',\n",
    "    'This should help get you started: http://chatterbot.rtfd.org/en/latest/quickstart.html'\n",
    "])\n",
    "\n",
    "# Get a response for some unexpected input\n",
    "response = bot.get_response('How do I make an omelette?')\n",
    "print(response)"
   ]
  },
  {
   "cell_type": "markdown",
   "metadata": {},
   "source": [
    "## math and time"
   ]
  },
  {
   "cell_type": "code",
   "execution_count": 8,
   "metadata": {},
   "outputs": [
    {
     "name": "stderr",
     "output_type": "stream",
     "text": [
      "INFO:chatterbot.chatterbot:MathematicalEvaluation selected \"4 + 9 = 13\" as a response with a confidence of 1\n",
      "INFO:chatterbot.chatterbot:TimeLogicAdapter selected \"The current time is 09:30 PM\" as a response with a confidence of 1\n",
      "INFO:chatterbot.chatterbot:Adding \"What is 4 + 9?\" as a response to \"How do I make an omelette?\"\n",
      "INFO:chatterbot.chatterbot:Not processing the statement using MathematicalEvaluation\n",
      "INFO:chatterbot.chatterbot:TimeLogicAdapter selected \"The current time is 09:30 PM\" as a response with a confidence of 1\n",
      "INFO:chatterbot.chatterbot:Adding \"What time is it?\" as a response to \"What is 4 + 9?\"\n"
     ]
    },
    {
     "name": "stdout",
     "output_type": "stream",
     "text": [
      "4 + 9 = 13\n",
      "The current time is 09:30 PM\n"
     ]
    }
   ],
   "source": [
    "from chatterbot import ChatBot\n",
    "\n",
    "\n",
    "bot = ChatBot(\n",
    "    'Math & Time Bot',\n",
    "    logic_adapters=[\n",
    "        'chatterbot.logic.MathematicalEvaluation',\n",
    "        'chatterbot.logic.TimeLogicAdapter'\n",
    "    ]\n",
    ")\n",
    "\n",
    "# Print an example of getting one math based response\n",
    "response = bot.get_response('What is 4 + 9?')\n",
    "print(response)\n",
    "\n",
    "# Print an example of getting one time based response\n",
    "response = bot.get_response('What time is it?')\n",
    "print(response)"
   ]
  },
  {
   "cell_type": "markdown",
   "metadata": {},
   "source": [
    "## specific response"
   ]
  },
  {
   "cell_type": "code",
   "execution_count": 9,
   "metadata": {},
   "outputs": [
    {
     "name": "stderr",
     "output_type": "stream",
     "text": [
      "INFO:chatterbot.chatterbot:Beginning search for close text match\n",
      "INFO:chatterbot.chatterbot:Processing search results\n",
      "INFO:chatterbot.chatterbot:Similar text found: Do you think I am? 0.23\n",
      "INFO:chatterbot.chatterbot:Similar text found: When will you walk 0.31\n",
      "INFO:chatterbot.chatterbot:Similar text found: When will you die 0.4\n",
      "INFO:chatterbot.chatterbot:Using \"Do you think I am?\" as a close match to \"Help me!\" with a confidence of 0.23\n",
      "INFO:chatterbot.chatterbot:No responses found. Generating alternate response list.\n",
      "INFO:chatterbot.chatterbot:Selecting response from 6 optimal alternate responses.\n",
      "INFO:chatterbot.response_selection:Selecting first response from list of 6 options.\n",
      "INFO:chatterbot.chatterbot:Alternate response selected. Using \"Right this way.\"\n",
      "INFO:chatterbot.chatterbot:BestMatch selected \"Right this way.\" as a response with a confidence of 0.23\n",
      "INFO:chatterbot.chatterbot:Not processing the statement using SpecificResponseAdapter\n",
      "INFO:chatterbot.chatterbot:Adding \"Help me!\" as a response to \"What time is it?\"\n"
     ]
    },
    {
     "name": "stdout",
     "output_type": "stream",
     "text": [
      "Right this way.\n"
     ]
    }
   ],
   "source": [
    "from chatterbot import ChatBot\n",
    "\n",
    "\n",
    "# Create a new instance of a ChatBot\n",
    "bot = ChatBot(\n",
    "    'Exact Response Example Bot',\n",
    "    storage_adapter='chatterbot.storage.SQLStorageAdapter',\n",
    "    logic_adapters=[\n",
    "        {\n",
    "            'import_path': 'chatterbot.logic.BestMatch'\n",
    "        },\n",
    "        {\n",
    "            'import_path': 'chatterbot.logic.SpecificResponseAdapter',\n",
    "            'input_text': 'Help me!',\n",
    "            'output_text': 'Ok, here is a link: http://chatterbot.rtfd.org'\n",
    "        }\n",
    "    ]\n",
    ")\n",
    "\n",
    "# Get a response given the specific input\n",
    "response = bot.get_response('Help me!')\n",
    "print(response)"
   ]
  },
  {
   "cell_type": "markdown",
   "metadata": {},
   "source": [
    "## export"
   ]
  },
  {
   "cell_type": "code",
   "execution_count": 10,
   "metadata": {},
   "outputs": [
    {
     "name": "stdout",
     "output_type": "stream",
     "text": [
      "Training ai.yml: [##                  ] 12%"
     ]
    },
    {
     "name": "stderr",
     "output_type": "stream",
     "text": [
      "C:\\Users\\user\\Anaconda3\\lib\\site-packages\\chatterbot\\corpus.py:59: YAMLLoadWarning: calling yaml.load() without Loader=... is deprecated, as the default Loader is unsafe. Please read https://msg.pyyaml.org/load for full details.\n",
      "  return yaml.load(data_file)\n"
     ]
    },
    {
     "name": "stdout",
     "output_type": "stream",
     "text": [
      "Training ai.yml: [####################] 100%\n",
      "Training botprofile.yml: [####################] 100%\n",
      "Training computers.yml: [####################] 100%\n",
      "Training conversations.yml: [####################] 100%\n",
      "Training emotion.yml: [####################] 100%\n",
      "Training food.yml: [####################] 100%\n",
      "Training gossip.yml: [####################] 100%\n",
      "Training greetings.yml: [####################] 100%\n",
      "Training health.yml: [####################] 100%\n",
      "Training history.yml: [####################] 100%\n",
      "Training humor.yml: [####################] 100%\n",
      "Training literature.yml: [####################] 100%\n",
      "Training money.yml: [####################] 100%\n",
      "Training movies.yml: [####################] 100%\n",
      "Training politics.yml: [####################] 100%\n",
      "Training psychology.yml: [####################] 100%\n",
      "Training science.yml: [####################] 100%\n",
      "Training sports.yml: [####################] 100%\n",
      "Training trivia.yml: [####################] 100%\n"
     ]
    }
   ],
   "source": [
    "from chatterbot import ChatBot\n",
    "from chatterbot.trainers import ChatterBotCorpusTrainer\n",
    "\n",
    "'''\n",
    "This is an example showing how to create an export file from\n",
    "an existing chat bot that can then be used to train other bots.\n",
    "'''\n",
    "\n",
    "chatbot = ChatBot('Export Example Bot')\n",
    "\n",
    "# First, lets train our bot with some data\n",
    "trainer = ChatterBotCorpusTrainer(chatbot)\n",
    "\n",
    "trainer.train('chatterbot.corpus.english')\n",
    "\n",
    "# Now we can export the data to a file\n",
    "trainer.export_for_training('./my_export.json')"
   ]
  },
  {
   "cell_type": "markdown",
   "metadata": {},
   "source": [
    "## memory sql"
   ]
  },
  {
   "cell_type": "code",
   "execution_count": 11,
   "metadata": {},
   "outputs": [
    {
     "name": "stderr",
     "output_type": "stream",
     "text": [
      "INFO:chatterbot.chatterbot:Not processing the statement using MathematicalEvaluation\n",
      "INFO:chatterbot.chatterbot:TimeLogicAdapter selected \"The current time is 09:30 PM\" as a response with a confidence of 1\n",
      "INFO:chatterbot.chatterbot:Beginning search for close text match\n",
      "INFO:chatterbot.chatterbot:Processing search results\n",
      "INFO:chatterbot.chatterbot:Using \"What time is it?\" as a close match to \"What time is it?\" with a confidence of 0\n",
      "INFO:chatterbot.chatterbot:No responses found. Generating alternate response list.\n",
      "INFO:chatterbot.chatterbot:No known response to the input was found. Selecting a random response.\n",
      "INFO:chatterbot.chatterbot:BestMatch selected \"What time is it?\" as a response with a confidence of 0\n",
      "INFO:chatterbot.chatterbot:Adding \"What time is it?\" as a response to \"None\"\n",
      "INFO:chatterbot.chatterbot:MathematicalEvaluation selected \"7 plus 7 = 14\" as a response with a confidence of 1\n",
      "INFO:chatterbot.chatterbot:TimeLogicAdapter selected \"The current time is 09:30 PM\" as a response with a confidence of 1\n",
      "INFO:chatterbot.chatterbot:Beginning search for close text match\n",
      "INFO:chatterbot.chatterbot:Processing search results\n",
      "INFO:chatterbot.chatterbot:Using \"What is 7 plus 7?\" as a close match to \"What is 7 plus 7?\" with a confidence of 0\n",
      "INFO:chatterbot.chatterbot:No responses found. Generating alternate response list.\n",
      "INFO:chatterbot.chatterbot:No known response to the input was found. Selecting a random response.\n",
      "INFO:chatterbot.chatterbot:BestMatch selected \"The current time is 09:30 PM\" as a response with a confidence of 0\n",
      "INFO:chatterbot.chatterbot:Adding \"What is 7 plus 7?\" as a response to \"What time is it?\"\n"
     ]
    },
    {
     "name": "stdout",
     "output_type": "stream",
     "text": [
      "The current time is 09:30 PM\n",
      "7 plus 7 = 14\n"
     ]
    }
   ],
   "source": [
    "from chatterbot import ChatBot\n",
    "\n",
    "# Uncomment the following lines to enable verbose logging\n",
    "import logging\n",
    "logging.basicConfig(level=logging.INFO)\n",
    "\n",
    "# Create a new instance of a ChatBot\n",
    "bot = ChatBot(\n",
    "    'SQLMemoryTerminal',\n",
    "    storage_adapter='chatterbot.storage.SQLStorageAdapter',\n",
    "    database_uri=None,\n",
    "    logic_adapters=[\n",
    "        'chatterbot.logic.MathematicalEvaluation',\n",
    "        'chatterbot.logic.TimeLogicAdapter',\n",
    "        'chatterbot.logic.BestMatch'\n",
    "    ]\n",
    ")\n",
    "\n",
    "# Get a few responses from the bot\n",
    "\n",
    "print(bot.get_response('What time is it?'))\n",
    "\n",
    "print(bot.get_response('What is 7 plus 7?'))"
   ]
  },
  {
   "cell_type": "markdown",
   "metadata": {},
   "source": [
    "## learning feedback"
   ]
  },
  {
   "cell_type": "code",
   "execution_count": 12,
   "metadata": {
    "scrolled": true
   },
   "outputs": [
    {
     "name": "stdout",
     "output_type": "stream",
     "text": [
      "Type something to begin...\n",
      "hello\n"
     ]
    },
    {
     "name": "stderr",
     "output_type": "stream",
     "text": [
      "INFO:chatterbot.chatterbot:Beginning search for close text match\n",
      "WARNING:chatterbot.chatterbot:No value for search_text was available on the provided input\n",
      "INFO:chatterbot.chatterbot:Processing search results\n",
      "INFO:chatterbot.chatterbot:Similar text found: Hello 1.0\n",
      "INFO:chatterbot.chatterbot:Using \"Hello\" as a close match to \"hello\" with a confidence of 1.0\n",
      "INFO:chatterbot.chatterbot:Selecting response from 21 optimal responses.\n",
      "INFO:chatterbot.response_selection:Selecting first response from list of 21 options.\n",
      "INFO:chatterbot.chatterbot:Response selected. Using \"Hi\"\n",
      "INFO:chatterbot.chatterbot:BestMatch selected \"Hi\" as a response with a confidence of 1.0\n"
     ]
    },
    {
     "name": "stdout",
     "output_type": "stream",
     "text": [
      "\n",
      " Is \"Hi\" a coherent response to \"hello\"? \n",
      "\n",
      "yes\n",
      "\n"
     ]
    },
    {
     "name": "stderr",
     "output_type": "stream",
     "text": [
      "INFO:chatterbot.chatterbot:Beginning search for close text match\n",
      "WARNING:chatterbot.chatterbot:No value for search_text was available on the provided input\n",
      "INFO:chatterbot.chatterbot:Processing search results\n",
      "INFO:chatterbot.chatterbot:Using \"\" as a close match to \"\" with a confidence of 0\n",
      "INFO:chatterbot.chatterbot:Selecting response from 4154 optimal responses.\n",
      "INFO:chatterbot.response_selection:Selecting first response from list of 4154 options.\n",
      "INFO:chatterbot.chatterbot:Response selected. Using \"What is AI?\"\n",
      "INFO:chatterbot.chatterbot:BestMatch selected \"What is AI?\" as a response with a confidence of 0\n"
     ]
    },
    {
     "name": "stdout",
     "output_type": "stream",
     "text": [
      "\n",
      " Is \"What is AI?\" a coherent response to \"\"? \n",
      "\n",
      "NO\n",
      "please input the correct one\n"
     ]
    }
   ],
   "source": [
    "from chatterbot import ChatBot\n",
    "from chatterbot.conversation import Statement\n",
    "\n",
    "\"\"\"\n",
    "This example shows how to create a chat bot that\n",
    "will learn responses based on an additional feedback\n",
    "element from the user.\n",
    "\"\"\"\n",
    "\n",
    "# Uncomment the following line to enable verbose logging\n",
    "# import logging\n",
    "# logging.basicConfig(level=logging.INFO)\n",
    "\n",
    "# Create a new instance of a ChatBot\n",
    "bot = ChatBot(\n",
    "    'Feedback Learning Bot',\n",
    "    storage_adapter='chatterbot.storage.SQLStorageAdapter'\n",
    ")\n",
    "\n",
    "\n",
    "def get_feedback():\n",
    "\n",
    "    text = input()\n",
    "\n",
    "    if 'yes' in text.lower():\n",
    "        return True\n",
    "    elif 'no' in text.lower():\n",
    "        return False\n",
    "    else:\n",
    "        print('Please type either \"Yes\" or \"No\"')\n",
    "        return get_feedback()\n",
    "\n",
    "\n",
    "print('Type something to begin...')\n",
    "\n",
    "# The following loop will execute each time the user enters input\n",
    "while True:\n",
    "    try:\n",
    "        input_statement = Statement(text=input())\n",
    "        response = bot.generate_response(\n",
    "            input_statement\n",
    "        )\n",
    "\n",
    "        print('\\n Is \"{}\" a coherent response to \"{}\"? \\n'.format(\n",
    "            response.text,\n",
    "            input_statement.text\n",
    "        ))\n",
    "        if get_feedback() is False:\n",
    "            print('please input the correct one')\n",
    "            correct_response = Statement(text=input())\n",
    "            bot.learn_response(correct_response, input_statement)\n",
    "            print('Responses added to bot!')\n",
    "\n",
    "    # Press ctrl-c or ctrl-d on the keyboard to exit\n",
    "    except (KeyboardInterrupt, EOFError, SystemExit):\n",
    "        break"
   ]
  },
  {
   "cell_type": "markdown",
   "metadata": {},
   "source": [
    "## tagged dataset"
   ]
  },
  {
   "cell_type": "code",
   "execution_count": 13,
   "metadata": {},
   "outputs": [
    {
     "name": "stderr",
     "output_type": "stream",
     "text": [
      "INFO:chatterbot.chatterbot:Beginning search for close text match\n",
      "INFO:chatterbot.chatterbot:Processing search results\n",
      "INFO:chatterbot.chatterbot:Similar text found: How are you? 1.0\n",
      "INFO:chatterbot.chatterbot:Using \"How are you?\" as a close match to \"How are you?\" with a confidence of 1.0\n",
      "INFO:chatterbot.chatterbot:No responses found. Generating alternate response list.\n",
      "INFO:chatterbot.chatterbot:No known response to the input was found. Selecting a random response.\n",
      "INFO:chatterbot.chatterbot:BestMatch selected \"Hello\" as a response with a confidence of 0\n",
      "INFO:chatterbot.chatterbot:Adding \"How are you?\" as a response to \"I like animals.\"\n",
      "INFO:chatterbot.chatterbot:Beginning search for close text match\n",
      "INFO:chatterbot.chatterbot:Processing search results\n",
      "INFO:chatterbot.chatterbot:Similar text found: How are you? 1.0\n",
      "INFO:chatterbot.chatterbot:Using \"How are you?\" as a close match to \"How are you?\" with a confidence of 1.0\n",
      "INFO:chatterbot.chatterbot:No responses found. Generating alternate response list.\n",
      "INFO:chatterbot.chatterbot:No known response to the input was found. Selecting a random response.\n",
      "INFO:chatterbot.chatterbot:BestMatch selected \"Hi\" as a response with a confidence of 0\n",
      "INFO:chatterbot.chatterbot:Adding \"How are you?\" as a response to \"How are you?\"\n"
     ]
    },
    {
     "name": "stdout",
     "output_type": "stream",
     "text": [
      "Response from label_a collection: Hello\n",
      "Response from label_b collection: Hi\n"
     ]
    }
   ],
   "source": [
    "from chatterbot import ChatBot\n",
    "from chatterbot.conversation import Statement\n",
    "\n",
    "\n",
    "chatbot = ChatBot(\n",
    "    'Example Bot',\n",
    "    # This database will be a temporary in-memory database\n",
    "    database_uri=None\n",
    ")\n",
    "\n",
    "label_a_statements = [\n",
    "    Statement(text='Hello', tags=['label_a']),\n",
    "    Statement(text='Hi', tags=['label_a']),\n",
    "    Statement(text='How are you?', tags=['label_a'])\n",
    "]\n",
    "\n",
    "label_b_statements = [\n",
    "    Statement(text='I like dogs.', tags=['label_b']),\n",
    "    Statement(text='I like cats.', tags=['label_b']),\n",
    "    Statement(text='I like animals.', tags=['label_b'])\n",
    "]\n",
    "\n",
    "chatbot.storage.create_many(\n",
    "    label_a_statements + label_b_statements\n",
    ")\n",
    "\n",
    "# Return a response from \"label_a_statements\"\n",
    "response_from_label_a = chatbot.get_response(\n",
    "    'How are you?',\n",
    "    additional_response_selection_parameters={\n",
    "        'tags': ['label_a']\n",
    "    }\n",
    ")\n",
    "\n",
    "# Return a response from \"label_b_statements\"\n",
    "response_from_label_b = chatbot.get_response(\n",
    "    'How are you?',\n",
    "    additional_response_selection_parameters={\n",
    "        'tags': ['label_b']\n",
    "    }\n",
    ")\n",
    "\n",
    "print('Response from label_a collection:', response_from_label_a.text)\n",
    "print('Response from label_b collection:', response_from_label_b.text)"
   ]
  }
 ],
 "metadata": {
  "kernelspec": {
   "display_name": "Python 3",
   "language": "python",
   "name": "python3"
  },
  "language_info": {
   "codemirror_mode": {
    "name": "ipython",
    "version": 3
   },
   "file_extension": ".py",
   "mimetype": "text/x-python",
   "name": "python",
   "nbconvert_exporter": "python",
   "pygments_lexer": "ipython3",
   "version": "3.7.1"
  }
 },
 "nbformat": 4,
 "nbformat_minor": 4
}
